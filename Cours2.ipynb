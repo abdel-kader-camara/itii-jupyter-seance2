{
 "cells": [
  {
   "cell_type": "markdown",
   "metadata": {},
   "source": [
    "#  Scéance 2"
   ]
  },
  {
   "cell_type": "raw",
   "metadata": {},
   "source": [
    "Ex1: Rectangle\n",
    "\n",
    "    Ecrire une classe Rectangle en langage Python, permettant de construire un rectangle dotée d’attributs longueur et largeur.\n",
    "\n",
    "    Créer une méthode Perimetre() permettant de calculer le périmètre du rectangle et une méthode Surface() permettant de calculer la surface du rectangle\n",
    "\n",
    "    Créer les getters et setters.\n",
    "\n",
    "    Créer une classe fille Parallelepipede héritant de la classe Rectangle et dotée en plus d’un attribut hauteur et d’une autre méthode Volume() permettant de calculer le volume du Parallélépipède.\n",
    "\n"
   ]
  },
  {
   "cell_type": "code",
   "execution_count": 1,
   "metadata": {},
   "outputs": [
    {
     "name": "stdout",
     "output_type": "stream",
     "text": [
      "Le périmètre de mon rectangle est :  24\n",
      "La surface de mon rectangle est :  35\n",
      "Le volume de mon parallelepipede est :  70\n"
     ]
    }
   ],
   "source": [
    "class Rectangle:\n",
    "    def __init__(self,longueur,largeur):\n",
    "        self.longueur = longueur\n",
    "        self.largeur = largeur\n",
    "        \n",
    "    # Méthode qui calcul le périmètre\n",
    "    def Perimetre(self):\n",
    "        return 2*(self.longueur + self.largeur)\n",
    "    \n",
    "    # Méthode qui calcul la surface\n",
    "    def Surface(self):\n",
    "        return self.longueur*self.largeur\n",
    "    \n",
    "class Parallelepipede(Rectangle):\n",
    "    def __init__(self,longueur,largeur, hauteur):\n",
    "        Rectangle.__init__(self,longueur,largeur)\n",
    "        self.hauteur = hauteur\n",
    "    \n",
    "    # méthode qui calcul le volume\n",
    "    def Volume(self):\n",
    "        return self.longueur*self.largeur*self.hauteur\n",
    "    \n",
    "monRectangle = Rectangle(7, 5)\n",
    "monParallelepipede = Parallelepipede(7,5,2)\n",
    "print(\"Le périmètre de mon rectangle est : \",monRectangle.Perimetre())\n",
    "print(\"La surface de mon rectangle est : \", monRectangle.Surface())\n",
    "print(\"Le volume de mon parallelepipede est : \", monParallelepipede.Volume())"
   ]
  },
  {
   "cell_type": "code",
   "execution_count": null,
   "metadata": {},
   "outputs": [],
   "source": []
  }
 ],
 "metadata": {
  "kernelspec": {
   "display_name": "Python 3",
   "language": "python",
   "name": "python3"
  },
  "language_info": {
   "codemirror_mode": {
    "name": "ipython",
    "version": 3
   },
   "file_extension": ".py",
   "mimetype": "text/x-python",
   "name": "python",
   "nbconvert_exporter": "python",
   "pygments_lexer": "ipython3",
   "version": "3.7.6"
  }
 },
 "nbformat": 4,
 "nbformat_minor": 4
}
